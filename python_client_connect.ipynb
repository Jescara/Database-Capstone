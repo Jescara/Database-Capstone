{
 "cells": [
  {
   "cell_type": "code",
   "execution_count": 1,
   "id": "00603a7c-c94f-4c09-b504-483056c2dee4",
   "metadata": {},
   "outputs": [
    {
     "name": "stdout",
     "output_type": "stream",
     "text": [
      "Requirement already satisfied: mysql-connector-python in c:\\users\\chant\\appdata\\roaming\\python\\python312\\site-packages (9.0.0)\n"
     ]
    },
    {
     "name": "stderr",
     "output_type": "stream",
     "text": [
      "\n",
      "[notice] A new release of pip is available: 24.1.1 -> 24.1.2\n",
      "[notice] To update, run: python.exe -m pip install --upgrade pip\n"
     ]
    }
   ],
   "source": [
    "!pip install mysql-connector-python\n",
    "import mysql.connector as connector"
   ]
  },
  {
   "cell_type": "code",
   "execution_count": 21,
   "id": "6f87eb40-8962-4c7d-b427-493f2082091d",
   "metadata": {},
   "outputs": [],
   "source": [
    "connection = connector.connect(user = \"root\", password = \"MyR00tP@ss\", db = \"littlelemondb\")"
   ]
  },
  {
   "cell_type": "code",
   "execution_count": 24,
   "id": "caf6c010-4bf7-4bd0-ae5b-9fbb5bf5718e",
   "metadata": {},
   "outputs": [],
   "source": [
    "cursor = connection.cursor()\n",
    "show_tables_query = \"SHOW tables\"\n",
    "cursor.execute(show_tables_query)\n"
   ]
  },
  {
   "cell_type": "code",
   "execution_count": 25,
   "id": "575f92e8-581c-4505-b1ab-ab66b7a74b17",
   "metadata": {},
   "outputs": [
    {
     "name": "stdout",
     "output_type": "stream",
     "text": [
      "('bookings',)\n",
      "('customers',)\n",
      "('menu',)\n",
      "('menuitems',)\n",
      "('orderdeliverystatus',)\n",
      "('orders',)\n",
      "('ordersview',)\n",
      "('staff',)\n"
     ]
    }
   ],
   "source": [
    "select_tables = cursor.fetchall()\n",
    "for rows in select_tables:\n",
    "    print(rows)"
   ]
  },
  {
   "cell_type": "code",
   "execution_count": 26,
   "id": "6be8f56d-86e9-4f49-9648-5e5e0eef4566",
   "metadata": {},
   "outputs": [
    {
     "name": "stdout",
     "output_type": "stream",
     "text": [
      "('Sasha Ten', 2223333, Decimal('322.00'))\n",
      "('Chanie Tella', 2434222, Decimal('1120.00'))\n",
      "('Sasha Ten', 2223333, Decimal('644.00'))\n",
      "('Peter Williams', 2425884, Decimal('259.00'))\n",
      "('Chanie Tella', 2434222, Decimal('287.00'))\n",
      "('Zendaya Felt', 5354234, Decimal('301.00'))\n",
      "('Zendaya Felt', 5354234, Decimal('187.00'))\n",
      "('Peter Williams', 2425884, Decimal('238.00'))\n",
      "('Sasha Ten', 2223333, Decimal('693.00'))\n",
      "('Chanie Tella', 2434222, Decimal('777.00'))\n",
      "('Sasha Ten', 2223333, Decimal('2018.00'))\n"
     ]
    }
   ],
   "source": [
    "join_query = \"\"\"\n",
    "SELECT customers.CustomerName, customers.ContactNumber, orders.TotalCost\n",
    "FROM customers INNER JOIN orders\n",
    "ON customers.customerID = orders.customerID\n",
    "WHERE TotalCost > 60\n",
    "\"\"\"\n",
    "cursor.execute(join_query)\n",
    "select_customers = cursor.fetchall()\n",
    "for customers in select_customers:\n",
    "    print(customers)"
   ]
  },
  {
   "cell_type": "code",
   "execution_count": null,
   "id": "b447e84a-b209-4be4-ba7e-c6373c2c810b",
   "metadata": {},
   "outputs": [],
   "source": []
  }
 ],
 "metadata": {
  "kernelspec": {
   "display_name": "Python 3 (ipykernel)",
   "language": "python",
   "name": "python3"
  },
  "language_info": {
   "codemirror_mode": {
    "name": "ipython",
    "version": 3
   },
   "file_extension": ".py",
   "mimetype": "text/x-python",
   "name": "python",
   "nbconvert_exporter": "python",
   "pygments_lexer": "ipython3",
   "version": "3.12.4"
  }
 },
 "nbformat": 4,
 "nbformat_minor": 5
}
